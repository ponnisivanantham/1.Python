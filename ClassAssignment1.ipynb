{
 "cells": [
  {
   "cell_type": "code",
   "execution_count": null,
   "id": "81a15364-e679-4e1a-8d3c-91f4f4efb39f",
   "metadata": {},
   "outputs": [],
   "source": [
    "# Create a class and function, and list out the items in the list"
   ]
  },
  {
   "cell_type": "code",
   "execution_count": 1,
   "id": "39f49bb2-bf6e-4a24-bb97-9c66f3fc4212",
   "metadata": {},
   "outputs": [],
   "source": [
    "class SubfieldsInAI():\n",
    "    def Subfields():\n",
    "        lists = [\"Machine Learning\",\"Neural Networks\",\"Vision\",\"Robotics\"\n",
    "             ,\"Speech Processing\",\"Natural Language Processing\"]\n",
    "        print(\"Sub-fields in AI are:\")\n",
    "        for temp in lists:\n",
    "            print(temp)"
   ]
  },
  {
   "cell_type": "code",
   "execution_count": 2,
   "id": "eb83a4c5-428f-4057-b131-fea6037d529b",
   "metadata": {},
   "outputs": [
    {
     "name": "stdout",
     "output_type": "stream",
     "text": [
      "Sub-fields in AI are:\n",
      "Machine Learning\n",
      "Neural Networks\n",
      "Vision\n",
      "Robotics\n",
      "Speech Processing\n",
      "Natural Language Processing\n"
     ]
    }
   ],
   "source": [
    "SubfieldsInAI.Subfields()"
   ]
  },
  {
   "cell_type": "code",
   "execution_count": null,
   "id": "b0f3cba4-b7c2-47ec-86c3-42ab75cef3b1",
   "metadata": {},
   "outputs": [],
   "source": [
    "# Create a function that checks whether the given number is Odd or Even"
   ]
  },
  {
   "cell_type": "code",
   "execution_count": 3,
   "id": "82792fad-c04d-4117-8795-cf4d8e718500",
   "metadata": {},
   "outputs": [],
   "source": [
    "class OddEven():\n",
    "    def OddEven():\n",
    "        num=int(input(\"Enter a number:\"))\n",
    "        if(num%2==0):\n",
    "            print(num, \"is Even number\")\n",
    "        else:\n",
    "            print(num, \"is Odd number\")"
   ]
  },
  {
   "cell_type": "code",
   "execution_count": 4,
   "id": "3f03eda9-2d05-4423-8947-9bea61e77f85",
   "metadata": {},
   "outputs": [
    {
     "name": "stdin",
     "output_type": "stream",
     "text": [
      "Enter a number: 5767\n"
     ]
    },
    {
     "name": "stdout",
     "output_type": "stream",
     "text": [
      "5767 is Odd number\n"
     ]
    }
   ],
   "source": [
    "OddEven.OddEven()"
   ]
  },
  {
   "cell_type": "code",
   "execution_count": null,
   "id": "e246809c-798c-421b-a3b3-f9843cec8f98",
   "metadata": {},
   "outputs": [],
   "source": [
    "# Create a function that tells elegibility of marriage for male and female according to their \n",
    "# age limit like 21 for male and 18 for female"
   ]
  },
  {
   "cell_type": "code",
   "execution_count": 5,
   "id": "b522c37f-761f-4686-b334-97151cbbf818",
   "metadata": {},
   "outputs": [],
   "source": [
    "class ElegiblityForMarriage():\n",
    "    def Elegible():\n",
    "        gender=input(\"Your Gender:\")\n",
    "        age=int(input(\"Your Age:\"))\n",
    "        if((gender==\"Male\") and (age<=21)):\n",
    "            print(\"NOT ELIGIBLE\")\n",
    "        elif((gender==\"Female\") and (age<=18)):\n",
    "            print(\"NOT ELIGIBLE\")\n",
    "        else:\n",
    "            print(\"ELIGIBLE\")"
   ]
  },
  {
   "cell_type": "code",
   "execution_count": 8,
   "id": "8bb20cc1-6041-4c66-8aa4-549b6a94554f",
   "metadata": {},
   "outputs": [
    {
     "name": "stdin",
     "output_type": "stream",
     "text": [
      "Your Gender: Male\n",
      "Your Age: 20\n"
     ]
    },
    {
     "name": "stdout",
     "output_type": "stream",
     "text": [
      "NOT ELIGIBLE\n"
     ]
    }
   ],
   "source": [
    "ElegiblityForMarriage.Elegible()"
   ]
  },
  {
   "cell_type": "code",
   "execution_count": null,
   "id": "e0bae516-f02a-42a9-80c5-c004c2fbf8ed",
   "metadata": {},
   "outputs": [],
   "source": [
    "# calculate the percentage of your 10th mark"
   ]
  },
  {
   "cell_type": "code",
   "execution_count": 9,
   "id": "09c125ec-e963-448a-a80c-6f91bfa0f75f",
   "metadata": {},
   "outputs": [],
   "source": [
    "class FindPercent():\n",
    "    def percentage():\n",
    "        m1=int(input(\"Subject1 =\"))\n",
    "        m2=int(input(\"Subject2 =\"))\n",
    "        m3=int(input(\"Subject3 =\"))\n",
    "        m4=int(input(\"Subject4 =\"))\n",
    "        m5=int(input(\"Subject5 =\"))\n",
    "        total=m1+m2+m3+m4+m5\n",
    "        print(\"Total :\",total)\n",
    "        percent=(total/500)*100\n",
    "        print(\"Percentage :\",percent)"
   ]
  },
  {
   "cell_type": "code",
   "execution_count": 10,
   "id": "8228f8d3-a5b2-421e-a230-fbf8c998e00c",
   "metadata": {},
   "outputs": [
    {
     "name": "stdin",
     "output_type": "stream",
     "text": [
      "Subject1 = 99\n",
      "Subject2 = 100\n",
      "Subject3 = 98\n",
      "Subject4 = 99\n",
      "Subject5 = 97\n"
     ]
    },
    {
     "name": "stdout",
     "output_type": "stream",
     "text": [
      "Total : 493\n",
      "Percentage : 98.6\n"
     ]
    }
   ],
   "source": [
    "FindPercent.percentage()"
   ]
  },
  {
   "cell_type": "code",
   "execution_count": null,
   "id": "fbaacbb4-868e-403f-af9e-2e6ae9e42623",
   "metadata": {},
   "outputs": [],
   "source": [
    "# print area and perimeter of triangle using class and functions"
   ]
  },
  {
   "cell_type": "code",
   "execution_count": 11,
   "id": "b110a845-5209-42dc-bb94-a9911d9771fe",
   "metadata": {},
   "outputs": [],
   "source": [
    "class triangle():\n",
    "    def triangle():\n",
    "        height=int(input(\"Height =\"))\n",
    "        breadth=int(input(\"Breadth =\"))\n",
    "        print(\"Area formula : (Height*Breadth)/2\")\n",
    "        print(\"Area of Triangle :\", ((height*breadth)/2))\n",
    "        height1=int(input(\"Height1 =\"))\n",
    "        height2=int(input(\"Height2 =\"))\n",
    "        breadthp=int(input(\"Breadthp =\"))\n",
    "        print(\"Perimeter formula : Height1+Height2+Breadthp\")\n",
    "        print(\"Perimeter of Triangle :\", height1+height2+breadthp)"
   ]
  },
  {
   "cell_type": "code",
   "execution_count": 12,
   "id": "e0524f9f-0543-42cf-9fbc-b1fb36e0e73a",
   "metadata": {},
   "outputs": [
    {
     "name": "stdin",
     "output_type": "stream",
     "text": [
      "Height = 45\n",
      "Breadth = 56\n"
     ]
    },
    {
     "name": "stdout",
     "output_type": "stream",
     "text": [
      "Area formula : (Height*Breadth)/2\n",
      "Area of Triangle : 1260.0\n"
     ]
    },
    {
     "name": "stdin",
     "output_type": "stream",
     "text": [
      "Height1 = 23\n",
      "Height2 = 45\n",
      "Breadthp = 34\n"
     ]
    },
    {
     "name": "stdout",
     "output_type": "stream",
     "text": [
      "Perimeter formula : Height1+Height2+Breadthp\n",
      "Perimeter of Triangle : 102\n"
     ]
    }
   ],
   "source": [
    "triangle.triangle()"
   ]
  },
  {
   "cell_type": "code",
   "execution_count": null,
   "id": "6e915093-242a-41c2-91a3-eb7601f2a6ec",
   "metadata": {},
   "outputs": [],
   "source": []
  }
 ],
 "metadata": {
  "kernelspec": {
   "display_name": "Python [conda env:base] *",
   "language": "python",
   "name": "conda-base-py"
  },
  "language_info": {
   "codemirror_mode": {
    "name": "ipython",
    "version": 3
   },
   "file_extension": ".py",
   "mimetype": "text/x-python",
   "name": "python",
   "nbconvert_exporter": "python",
   "pygments_lexer": "ipython3",
   "version": "3.12.7"
  }
 },
 "nbformat": 4,
 "nbformat_minor": 5
}
