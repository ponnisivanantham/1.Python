{
 "cells": [
  {
   "cell_type": "code",
   "execution_count": 10,
   "id": "22df8e8c-b620-4acd-9561-e3332d0fc36e",
   "metadata": {},
   "outputs": [
    {
     "name": "stdin",
     "output_type": "stream",
     "text": [
      "Value: 10\n"
     ]
    },
    {
     "name": "stdout",
     "output_type": "stream",
     "text": [
      "Correct\n"
     ]
    }
   ],
   "source": [
    "# print 'CORRECT' if i == 10\n",
    "i=int(input(\"Value:\"))\n",
    "if(i==10):\n",
    "    print(\"Correct\")\n",
    "else:\n",
    "    print(\"Wrong\")"
   ]
  },
  {
   "cell_type": "code",
   "execution_count": 13,
   "id": "a48bd018-5acf-4c82-9dd9-d43952948f9f",
   "metadata": {},
   "outputs": [
    {
     "name": "stdin",
     "output_type": "stream",
     "text": [
      "Enter the password: HOPE@123\n"
     ]
    },
    {
     "name": "stdout",
     "output_type": "stream",
     "text": [
      "Your password is correct\n"
     ]
    }
   ],
   "source": [
    "# Check the password, using if and else\n",
    "pwd=str(input(\"Enter the password:\"))\n",
    "if(pwd=='HOPE@123'):\n",
    "    print(\"Your password is correct\")\n",
    "else:\n",
    "    print(\"Your password is wrong\")"
   ]
  },
  {
   "cell_type": "code",
   "execution_count": 18,
   "id": "ad945ae5-cb92-4b13-8301-a68bb30544ae",
   "metadata": {},
   "outputs": [
    {
     "name": "stdin",
     "output_type": "stream",
     "text": [
      "age:  79\n"
     ]
    },
    {
     "name": "stdout",
     "output_type": "stream",
     "text": [
      "Senior Citizen\n"
     ]
    }
   ],
   "source": [
    "# Categorize the people by their age like children, adult, citizen, senior citizen...\n",
    "age=int(input(\"age: \"))\n",
    "if(age<=18):\n",
    "    print(\"Children\")\n",
    "elif(age>19 and age<=35):\n",
    "    print(\"Adult\")\n",
    "elif(age>36 and age<=60):\n",
    "    print(\"Citizen\")\n",
    "else:\n",
    "    print(\"Senior Citizen\")"
   ]
  },
  {
   "cell_type": "code",
   "execution_count": 25,
   "id": "ff5795ec-152c-4758-a963-cc9d94ab2e2d",
   "metadata": {},
   "outputs": [
    {
     "name": "stdin",
     "output_type": "stream",
     "text": [
      "Enter any number: -59\n"
     ]
    },
    {
     "name": "stdout",
     "output_type": "stream",
     "text": [
      "No is Negative\n"
     ]
    }
   ],
   "source": [
    "# Find whether given number is positive or negative\n",
    "num=int(input(\"Enter any number:\"))\n",
    "if(num==0):\n",
    "    print(\"No is Zero\")\n",
    "elif(num>0):\n",
    "    print(\"No is Positive\")\n",
    "else:\n",
    "    print(\"No is Negative\")"
   ]
  },
  {
   "cell_type": "code",
   "execution_count": 29,
   "id": "f392cffa-970c-47dd-814e-b09a4f704c5c",
   "metadata": {},
   "outputs": [
    {
     "name": "stdin",
     "output_type": "stream",
     "text": [
      "Enter a number to check: 60\n"
     ]
    },
    {
     "name": "stdout",
     "output_type": "stream",
     "text": [
      "No is divisible by 5\n"
     ]
    }
   ],
   "source": [
    "# Check whether the given number is divisible by 5\n",
    "number=int(input(\"Enter a number to check:\"))\n",
    "if(number%5==0):\n",
    "    print(\"No is divisible by 5\")\n",
    "else:\n",
    "    print(\"No is not divisible by 5\")"
   ]
  },
  {
   "cell_type": "code",
   "execution_count": null,
   "id": "ff98c468-cc67-4447-a623-7872073d5942",
   "metadata": {},
   "outputs": [],
   "source": []
  }
 ],
 "metadata": {
  "kernelspec": {
   "display_name": "Python [conda env:base] *",
   "language": "python",
   "name": "conda-base-py"
  },
  "language_info": {
   "codemirror_mode": {
    "name": "ipython",
    "version": 3
   },
   "file_extension": ".py",
   "mimetype": "text/x-python",
   "name": "python",
   "nbconvert_exporter": "python",
   "pygments_lexer": "ipython3",
   "version": "3.12.7"
  }
 },
 "nbformat": 4,
 "nbformat_minor": 5
}
