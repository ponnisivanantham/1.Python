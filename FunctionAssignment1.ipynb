{
 "cells": [
  {
   "cell_type": "code",
   "execution_count": null,
   "id": "6f03c891-a160-41a6-9fac-80abf135cb9e",
   "metadata": {},
   "outputs": [],
   "source": [
    "# Create a class and function, and list out the items in the list"
   ]
  },
  {
   "cell_type": "code",
   "execution_count": 2,
   "id": "1513d58c-561d-453f-b40a-04b5e326c33b",
   "metadata": {},
   "outputs": [
    {
     "name": "stdout",
     "output_type": "stream",
     "text": [
      "Sub-fields in AI are:\n",
      "Machine Learning\n",
      "Neural Networks\n",
      "Vision\n",
      "Robotics\n",
      "Speech Processing\n",
      "Natural Language Processing\n"
     ]
    }
   ],
   "source": [
    "def AIFields():\n",
    "    lists = [\"Machine Learning\",\"Neural Networks\",\"Vision\",\"Robotics\"\n",
    "             ,\"Speech Processing\",\"Natural Language Processing\"]\n",
    "    print(\"Sub-fields in AI are:\")\n",
    "    for temp in lists:\n",
    "        print(temp)\n",
    "AIFields()        "
   ]
  },
  {
   "cell_type": "code",
   "execution_count": null,
   "id": "a83e3120-2dbf-4127-88b7-6801d263d11b",
   "metadata": {},
   "outputs": [],
   "source": [
    "# Create a function that checks whether the given number is Odd or Even"
   ]
  },
  {
   "cell_type": "code",
   "execution_count": 5,
   "id": "4cf182aa-7d55-4066-a57f-a8bcc818b1fb",
   "metadata": {},
   "outputs": [
    {
     "name": "stdin",
     "output_type": "stream",
     "text": [
      "Enter a number: 52452\n"
     ]
    },
    {
     "name": "stdout",
     "output_type": "stream",
     "text": [
      "52452 is Even number\n"
     ]
    }
   ],
   "source": [
    "def OddOrEven(num):\n",
    "    if(num%2==0):\n",
    "        print(num, \"is Even number\")\n",
    "    else:\n",
    "        print(num, \"is Odd number\")\n",
    "num=int(input(\"Enter a number:\"))\n",
    "OddOrEven(num)"
   ]
  },
  {
   "cell_type": "code",
   "execution_count": null,
   "id": "500488fb-d102-4507-b06c-75626da01c7b",
   "metadata": {},
   "outputs": [],
   "source": [
    "# Create a function that tells elegibility of marriage for male and female according to \n",
    "# their age limit like 21 for male and 18 for female"
   ]
  },
  {
   "cell_type": "code",
   "execution_count": 10,
   "id": "b82892cd-26ee-4910-ac3e-78a34a37ea93",
   "metadata": {},
   "outputs": [
    {
     "name": "stdin",
     "output_type": "stream",
     "text": [
      "Your Gender: Male\n",
      "Your Age: 20\n"
     ]
    },
    {
     "name": "stdout",
     "output_type": "stream",
     "text": [
      "NOT ELIGIBLE\n"
     ]
    }
   ],
   "source": [
    "def MarriageEligibity(gender,age):\n",
    "    if((gender==\"Male\") and (age<=21)):\n",
    "        print(\"NOT ELIGIBLE\")\n",
    "    elif((gender==\"Female\") and (age<=18)):\n",
    "        print(\"NOT ELIGIBLE\")\n",
    "    else:\n",
    "        print(\"ELIGIBLE\")\n",
    "gender=input(\"Your Gender:\")\n",
    "age=int(input(\"Your Age:\"))\n",
    "MarriageEligibity(gender,age)"
   ]
  },
  {
   "cell_type": "code",
   "execution_count": null,
   "id": "8478705e-623d-45e2-8ff7-d912b7f725d1",
   "metadata": {},
   "outputs": [],
   "source": [
    "# calculate the percentage of your 10th mark"
   ]
  },
  {
   "cell_type": "code",
   "execution_count": 13,
   "id": "3f7cde2b-c830-403e-a143-039afd05012e",
   "metadata": {},
   "outputs": [
    {
     "name": "stdin",
     "output_type": "stream",
     "text": [
      "Subject1 = 99\n",
      "Subject2 = 98\n",
      "Subject3 = 97\n",
      "Subject4 = 96\n",
      "Subject5 = 95\n"
     ]
    },
    {
     "name": "stdout",
     "output_type": "stream",
     "text": [
      "Total : 485\n",
      "Percentage : 97.0\n"
     ]
    }
   ],
   "source": [
    "def percentage():\n",
    "    m1=int(input(\"Subject1 =\"))\n",
    "    m2=int(input(\"Subject2 =\"))\n",
    "    m3=int(input(\"Subject3 =\"))\n",
    "    m4=int(input(\"Subject4 =\"))\n",
    "    m5=int(input(\"Subject5 =\"))\n",
    "    total=m1+m2+m3+m4+m5\n",
    "    print(\"Total :\",total)\n",
    "    percent=(total/500)*100\n",
    "    print(\"Percentage :\",percent)\n",
    "percentage()"
   ]
  },
  {
   "cell_type": "code",
   "execution_count": null,
   "id": "a977f24d-298d-4756-bc9c-d257e59a028d",
   "metadata": {},
   "outputs": [],
   "source": [
    "# print area and perimeter of triangle using class and functions"
   ]
  },
  {
   "cell_type": "code",
   "execution_count": 16,
   "id": "f11d0560-2474-4710-b524-4d5d7ad0fdaa",
   "metadata": {},
   "outputs": [
    {
     "name": "stdin",
     "output_type": "stream",
     "text": [
      "Height = 4\n",
      "Breadth = 5\n"
     ]
    },
    {
     "name": "stdout",
     "output_type": "stream",
     "text": [
      "Area formula : (Height*Breadth)/2\n",
      "Area of Triangle : 10.0\n"
     ]
    },
    {
     "name": "stdin",
     "output_type": "stream",
     "text": [
      "Height1 = 4\n",
      "Height2 = 5\n",
      "Breadthp = 6\n"
     ]
    },
    {
     "name": "stdout",
     "output_type": "stream",
     "text": [
      "Perimeter formula : Height1+Height2+Breadthp\n",
      "Perimeter of Triangle : 15\n"
     ]
    }
   ],
   "source": [
    "def triangle():\n",
    "    height=int(input(\"Height =\"))\n",
    "    breadth=int(input(\"Breadth =\"))\n",
    "    print(\"Area formula : (Height*Breadth)/2\")\n",
    "    print(\"Area of Triangle :\", ((height*breadth)/2))\n",
    "    height1=int(input(\"Height1 =\"))\n",
    "    height2=int(input(\"Height2 =\"))\n",
    "    breadthp=int(input(\"Breadthp =\"))\n",
    "    print(\"Perimeter formula : Height1+Height2+Breadthp\")\n",
    "    print(\"Perimeter of Triangle :\", height1+height2+breadthp)\n",
    "triangle()"
   ]
  },
  {
   "cell_type": "code",
   "execution_count": null,
   "id": "1e78c941-3440-4dd7-bccf-10bba187bb4d",
   "metadata": {},
   "outputs": [],
   "source": []
  }
 ],
 "metadata": {
  "kernelspec": {
   "display_name": "Python [conda env:base] *",
   "language": "python",
   "name": "conda-base-py"
  },
  "language_info": {
   "codemirror_mode": {
    "name": "ipython",
    "version": 3
   },
   "file_extension": ".py",
   "mimetype": "text/x-python",
   "name": "python",
   "nbconvert_exporter": "python",
   "pygments_lexer": "ipython3",
   "version": "3.12.7"
  }
 },
 "nbformat": 4,
 "nbformat_minor": 5
}
