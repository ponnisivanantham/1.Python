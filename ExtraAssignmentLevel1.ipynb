{
 "cells": [
  {
   "cell_type": "code",
   "execution_count": 1,
   "id": "27cb0a48-c0a7-4b3d-812e-0167b2f72830",
   "metadata": {},
   "outputs": [
    {
     "name": "stdout",
     "output_type": "stream",
     "text": [
      "HOPE AI\n"
     ]
    }
   ],
   "source": [
    "#print Statement\n",
    "print('HOPE AI')"
   ]
  },
  {
   "cell_type": "code",
   "execution_count": 3,
   "id": "74402273-d231-4e1e-9cf7-ee0047d3b2e7",
   "metadata": {},
   "outputs": [
    {
     "name": "stdin",
     "output_type": "stream",
     "text": [
      "Enter your institute name? : HOPE AI\n"
     ]
    }
   ],
   "source": [
    "# Buy input\n",
    "name=input(\"Enter your institute name? :\")"
   ]
  },
  {
   "cell_type": "code",
   "execution_count": 4,
   "id": "c1ea9893-887f-4a8d-9458-8d4e2174a213",
   "metadata": {},
   "outputs": [
    {
     "name": "stdin",
     "output_type": "stream",
     "text": [
      "Enter your name: Raj\n",
      "Enter your age: 15\n",
      "Enter your school name: Guru School\n",
      "Enter your drgree: B.E CSE\n"
     ]
    }
   ],
   "source": [
    "#Buy inputs\n",
    "name=input(\"Enter your name:\")\n",
    "age=input(\"Enter your age:\")\n",
    "school=input(\"Enter your school name:\")\n",
    "degree=input(\"Enter your drgree:\")"
   ]
  },
  {
   "cell_type": "code",
   "execution_count": 7,
   "id": "edb0c503-9c4e-47cf-8926-46d8f3a2a27b",
   "metadata": {},
   "outputs": [
    {
     "name": "stdin",
     "output_type": "stream",
     "text": [
      "a=  43\n",
      "b=  34\n"
     ]
    },
    {
     "name": "stdout",
     "output_type": "stream",
     "text": [
      "Add = 77\n"
     ]
    }
   ],
   "source": [
    "#Addition\n",
    "num1=int(input(\"a= \"))\n",
    "num2=int(input(\"b= \"))\n",
    "print(\"Add =\",num1+num2)"
   ]
  },
  {
   "cell_type": "code",
   "execution_count": 8,
   "id": "d0124280-ac28-4e9c-bc9c-ae2d2317c113",
   "metadata": {},
   "outputs": [
    {
     "name": "stdin",
     "output_type": "stream",
     "text": [
      "a=  43\n",
      "b=  34\n"
     ]
    },
    {
     "name": "stdout",
     "output_type": "stream",
     "text": [
      "Sub = 9\n"
     ]
    }
   ],
   "source": [
    "#Subtraction\n",
    "num1=int(input(\"a= \"))\n",
    "num2=int(input(\"b= \"))\n",
    "print(\"Sub =\",num1-num2)"
   ]
  },
  {
   "cell_type": "code",
   "execution_count": 9,
   "id": "cc434442-db9c-4be4-934d-14682fb465b9",
   "metadata": {},
   "outputs": [
    {
     "name": "stdin",
     "output_type": "stream",
     "text": [
      "a=  63\n",
      "b=  97\n"
     ]
    },
    {
     "name": "stdout",
     "output_type": "stream",
     "text": [
      "Mul = 6111\n"
     ]
    }
   ],
   "source": [
    "#Multiplication\n",
    "num1=int(input(\"a= \"))\n",
    "num2=int(input(\"b= \"))\n",
    "print(\"Mul =\",num1*num2)"
   ]
  },
  {
   "cell_type": "code",
   "execution_count": 10,
   "id": "9e4b1ed8-9d5f-435c-a8aa-a7c19ab6c272",
   "metadata": {},
   "outputs": [
    {
     "name": "stdin",
     "output_type": "stream",
     "text": [
      "a=  76\n",
      "b=  31\n"
     ]
    },
    {
     "name": "stdout",
     "output_type": "stream",
     "text": [
      "Div = 2.4516129032258065\n"
     ]
    }
   ],
   "source": [
    "#Division\n",
    "num1=int(input(\"a= \"))\n",
    "num2=int(input(\"b= \"))\n",
    "print(\"Div =\",num1/num2)"
   ]
  },
  {
   "cell_type": "code",
   "execution_count": 13,
   "id": "dc4f0165-dafd-4e55-8d4e-43e9692bbbe5",
   "metadata": {},
   "outputs": [
    {
     "name": "stdin",
     "output_type": "stream",
     "text": [
      "a=  76\n",
      "b=  31\n"
     ]
    },
    {
     "name": "stdout",
     "output_type": "stream",
     "text": [
      "Floor Div = 2\n"
     ]
    }
   ],
   "source": [
    "#Floor division\n",
    "num1=int(input(\"a= \"))\n",
    "num2=int(input(\"b= \"))\n",
    "print(\"Floor Div =\",num1//num2)"
   ]
  },
  {
   "cell_type": "code",
   "execution_count": 14,
   "id": "3476d55b-48ff-40b9-a332-036325a26cd6",
   "metadata": {},
   "outputs": [
    {
     "name": "stdin",
     "output_type": "stream",
     "text": [
      "a=  76\n",
      "b=  31\n"
     ]
    },
    {
     "name": "stdout",
     "output_type": "stream",
     "text": [
      "Modulo = 14\n"
     ]
    }
   ],
   "source": [
    "#Modulo\n",
    "num1=int(input(\"a= \"))\n",
    "num2=int(input(\"b= \"))\n",
    "print(\"Modulo =\",num1%num2)"
   ]
  },
  {
   "cell_type": "code",
   "execution_count": 15,
   "id": "c5648995-af91-43fd-81d1-6bb2d0b58ae0",
   "metadata": {},
   "outputs": [
    {
     "name": "stdin",
     "output_type": "stream",
     "text": [
      "a=  4\n",
      "b=  4\n"
     ]
    },
    {
     "name": "stdout",
     "output_type": "stream",
     "text": [
      "Power = 256\n"
     ]
    }
   ],
   "source": [
    "#Power\n",
    "num1=int(input(\"a= \"))\n",
    "num2=int(input(\"b= \"))\n",
    "print(\"Power =\",num1**num2)"
   ]
  },
  {
   "cell_type": "code",
   "execution_count": null,
   "id": "9b9b69d2-2c20-4bfc-a635-2309e23c83a1",
   "metadata": {},
   "outputs": [],
   "source": []
  }
 ],
 "metadata": {
  "kernelspec": {
   "display_name": "Python [conda env:base] *",
   "language": "python",
   "name": "conda-base-py"
  },
  "language_info": {
   "codemirror_mode": {
    "name": "ipython",
    "version": 3
   },
   "file_extension": ".py",
   "mimetype": "text/x-python",
   "name": "python",
   "nbconvert_exporter": "python",
   "pygments_lexer": "ipython3",
   "version": "3.12.7"
  }
 },
 "nbformat": 4,
 "nbformat_minor": 5
}
