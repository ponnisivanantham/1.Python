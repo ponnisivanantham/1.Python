{
 "cells": [
  {
   "cell_type": "code",
   "execution_count": 2,
   "id": "aba1475d",
   "metadata": {},
   "outputs": [
    {
     "name": "stdout",
     "output_type": "stream",
     "text": [
      "olleh\n"
     ]
    }
   ],
   "source": [
    "#1.Write a Python program to find the reverse of a string. Expected Output (for input \"hello\"):\n",
    "#olleh\n",
    "txt=\"hello\"\n",
    "print(txt[::-1])"
   ]
  },
  {
   "cell_type": "code",
   "execution_count": 4,
   "id": "5b1ec143",
   "metadata": {},
   "outputs": [
    {
     "name": "stdout",
     "output_type": "stream",
     "text": [
      "Fibonacci series of 10 terms: [0, 1, 1, 2, 3, 5, 8, 13, 21, 34]\n"
     ]
    }
   ],
   "source": [
    "#2.Write a Python program to generate the Fibonacci sequence up to 10 terms.\n",
    "#Expected Output:\n",
    "#0 1 1 2 3 5 8 13 21 34\n",
    "def fibonacciseries(terms):\n",
    "    if terms <= 0:\n",
    "        return []\n",
    "    elif terms == 1:\n",
    "        return [0]\n",
    "    else:\n",
    "        series = [0, 1]\n",
    "        while len(series) < terms:\n",
    "            next_term = series[-1] + series[-2]\n",
    "            series.append(next_term)\n",
    "        return series\n",
    "terms = 10\n",
    "fib_sequence = fibonacciseries(terms)\n",
    "print(f\"Fibonacci series of {terms} terms: {fib_sequence}\")"
   ]
  },
  {
   "cell_type": "code",
   "execution_count": 13,
   "id": "c656f04a",
   "metadata": {},
   "outputs": [
    {
     "name": "stdin",
     "output_type": "stream",
     "text": [
      "Enter string:  madam\n"
     ]
    },
    {
     "name": "stdout",
     "output_type": "stream",
     "text": [
      "madam  is a palindrome\n"
     ]
    }
   ],
   "source": [
    "\"\"\"\n",
    "3.Write a Python function to check if a given string is a palindrome.\n",
    "Expected Output (for input \"madam\"):\n",
    "madam is a palindrome\n",
    "\"\"\"\n",
    "def palindromecheck(original):\n",
    "    modified=original[::-1]\n",
    "    if original == modified:\n",
    "        print(original,\" is a palindrome\")\n",
    "    else:\n",
    "        print(original,\" is not a palindrome\")\n",
    "original=input(\"Enter string: \")\n",
    "palindromecheck(original)"
   ]
  },
  {
   "cell_type": "code",
   "execution_count": 15,
   "id": "cd7b0a78",
   "metadata": {},
   "outputs": [
    {
     "name": "stdout",
     "output_type": "stream",
     "text": [
      "Number of vowels:  5\n"
     ]
    }
   ],
   "source": [
    "\"\"\"4.Write a Python program to count the number of vowels in a given string. \n",
    "Expected Output (for input \"education\"):\n",
    "Number of vowels: 5\"\"\"\n",
    "txt=\"education\"\n",
    "count = 0\n",
    "for temp in txt:\n",
    "    if temp == \"a\" or temp == \"e\" or temp == \"i\" or temp == \"o\" or temp == \"u\":\n",
    "        count = count + 1\n",
    "print(\"Number of vowels: \", count)"
   ]
  },
  {
   "cell_type": "code",
   "execution_count": 16,
   "id": "bdbb9b19",
   "metadata": {},
   "outputs": [
    {
     "name": "stdout",
     "output_type": "stream",
     "text": [
      "[1, 2, 3, 4, 5]\n"
     ]
    }
   ],
   "source": [
    "\"\"\"5.Write a Python program to remove duplicates from a list.\n",
    "Expected Output (for input [1, 2, 2, 3, 4, 4, 5]):\n",
    "\n",
    " [1, 2, 3, 4, 5]\"\"\"\n",
    "originallist = [1, 2, 2, 3, 4, 4, 5]\n",
    "modifiedlist = list(dict.fromkeys(originallist))\n",
    "print(modifiedlist)"
   ]
  },
  {
   "cell_type": "code",
   "execution_count": null,
   "id": "052ee666-5648-45b2-b50e-f82f9d24845d",
   "metadata": {},
   "outputs": [],
   "source": []
  }
 ],
 "metadata": {
  "kernelspec": {
   "display_name": "Python [conda env:base] *",
   "language": "python",
   "name": "conda-base-py"
  },
  "language_info": {
   "codemirror_mode": {
    "name": "ipython",
    "version": 3
   },
   "file_extension": ".py",
   "mimetype": "text/x-python",
   "name": "python",
   "nbconvert_exporter": "python",
   "pygments_lexer": "ipython3",
   "version": "3.12.7"
  }
 },
 "nbformat": 4,
 "nbformat_minor": 5
}
