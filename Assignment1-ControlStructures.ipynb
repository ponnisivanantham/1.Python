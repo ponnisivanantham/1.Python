{
 "cells": [
  {
   "cell_type": "code",
   "execution_count": 1,
   "id": "660b99aa-4b5f-4e0f-aac9-2213d43e4402",
   "metadata": {},
   "outputs": [
    {
     "name": "stdout",
     "output_type": "stream",
     "text": [
      "Welcome to Assignment-1\n"
     ]
    }
   ],
   "source": [
    "print(\"Welcome to Assignment-1\")"
   ]
  },
  {
   "cell_type": "code",
   "execution_count": 6,
   "id": "525c6375-c601-42bf-9364-39517369c24b",
   "metadata": {},
   "outputs": [
    {
     "name": "stdout",
     "output_type": "stream",
     "text": [
      "Num1 = 10\n",
      "Num2 = 30\n",
      "Add = 40\n"
     ]
    }
   ],
   "source": [
    "Num1= 10\n",
    "Num2= 30\n",
    "Add= Num1+Num2\n",
    "print(\"Num1 =\" ,Num1)\n",
    "print(\"Num2 =\" ,Num2)\n",
    "print(\"Add =\" ,Add)"
   ]
  },
  {
   "cell_type": "code",
   "execution_count": null,
   "id": "6d938556-a03c-4888-aee6-bde750251ecf",
   "metadata": {},
   "outputs": [],
   "source": [
    "#BMI Index"
   ]
  },
  {
   "cell_type": "code",
   "execution_count": 17,
   "id": "a27fe65f-4f4d-4b32-9f09-600de2ba0da1",
   "metadata": {},
   "outputs": [
    {
     "name": "stdin",
     "output_type": "stream",
     "text": [
      "Enter the BMI Index: 50\n"
     ]
    },
    {
     "name": "stdout",
     "output_type": "stream",
     "text": [
      "Obese Class III\n"
     ]
    }
   ],
   "source": [
    "bmiindex=int(input(\"Enter the BMI Index:\"))\n",
    "if(bmiindex<18.5):\n",
    "    print(\"Underweight\")\n",
    "elif((bmiindex>18.5) and (bmiindex<24.9)):\n",
    "    print(\"Normal Range\")\n",
    "elif((bmiindex>25) and (bmiindex<29.9)):\n",
    "    print(\"Over Weight\") \n",
    "elif((bmiindex>30) and (bmiindex<34.9)):\n",
    "    print(\"Obese Class I\")\n",
    "elif((bmiindex>35) and (bmiindex<39.9)):\n",
    "    print(\"Obese Class II\")\n",
    "else:\n",
    "    print(\"Obese Class III\")"
   ]
  },
  {
   "cell_type": "code",
   "execution_count": null,
   "id": "581c714b-4f81-4399-aabc-ab667187f5cf",
   "metadata": {},
   "outputs": [],
   "source": []
  }
 ],
 "metadata": {
  "kernelspec": {
   "display_name": "Python [conda env:base] *",
   "language": "python",
   "name": "conda-base-py"
  },
  "language_info": {
   "codemirror_mode": {
    "name": "ipython",
    "version": 3
   },
   "file_extension": ".py",
   "mimetype": "text/x-python",
   "name": "python",
   "nbconvert_exporter": "python",
   "pygments_lexer": "ipython3",
   "version": "3.12.7"
  }
 },
 "nbformat": 4,
 "nbformat_minor": 5
}
