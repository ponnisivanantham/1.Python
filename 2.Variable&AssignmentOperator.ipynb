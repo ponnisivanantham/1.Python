{
 "cells": [
  {
   "cell_type": "code",
   "execution_count": 6,
   "id": "9ecacdc6-39c2-454a-bb81-799b3d99d2fa",
   "metadata": {},
   "outputs": [
    {
     "name": "stdout",
     "output_type": "stream",
     "text": [
      "Addition Output:\n",
      "40\n"
     ]
    }
   ],
   "source": [
    "num1=10\n",
    "num2=30\n",
    "add=num1+num2\n",
    "print(\"Addition Output:\")\n",
    "print(add)"
   ]
  },
  {
   "cell_type": "code",
   "execution_count": 7,
   "id": "6c49a9be-7477-41e8-a6d1-558c4054f636",
   "metadata": {},
   "outputs": [
    {
     "name": "stdout",
     "output_type": "stream",
     "text": [
      "Sub:\n",
      "20\n"
     ]
    }
   ],
   "source": [
    "Num1=50\n",
    "Num2=30\n",
    "Sub=Num1-Num2\n",
    "print(\"Sub:\")\n",
    "print(Sub)"
   ]
  },
  {
   "cell_type": "code",
   "execution_count": 10,
   "id": "199e659f-92b5-45b3-baf1-407cf0f8c07c",
   "metadata": {},
   "outputs": [
    {
     "name": "stdout",
     "output_type": "stream",
     "text": [
      "First_Name:\n",
      "Ponniyin Selvi\n",
      "SecondName:\n",
      "Sivanantham\n"
     ]
    }
   ],
   "source": [
    "First_Name = \"Ponniyin Selvi\"\n",
    "SecondName = \"Sivanantham\"\n",
    "print(\"First_Name:\")\n",
    "print(First_Name)\n",
    "print(\"SecondName:\")\n",
    "print(SecondName)"
   ]
  },
  {
   "cell_type": "code",
   "execution_count": 12,
   "id": "2ecfd4e8-ed88-4658-8672-f47f2d1e6246",
   "metadata": {},
   "outputs": [
    {
     "name": "stdout",
     "output_type": "stream",
     "text": [
      "The addition of two numbers\n",
      "The num1 value is: 10\n",
      "The num2 value is: 30\n",
      "The answer: 40\n",
      "Another way to print the addition answer: 40\n"
     ]
    }
   ],
   "source": [
    "print(\"The addition of two numbers\")\n",
    "num1=10\n",
    "print(\"The num1 value is:\",num1)\n",
    "num2=30\n",
    "print(\"The num2 value is:\",num2)\n",
    "add=num1+num2\n",
    "print(\"The answer:\",add)\n",
    "print(\"Another way to print the addition answer:\",num1+num2)"
   ]
  },
  {
   "cell_type": "code",
   "execution_count": 13,
   "id": "b1bb216c-bc93-41a4-82ec-0cbed5b4d9c0",
   "metadata": {},
   "outputs": [
    {
     "name": "stdin",
     "output_type": "stream",
     "text": [
      "Enter num1 value:  30\n",
      "Enter num2 value:  50\n"
     ]
    },
    {
     "name": "stdout",
     "output_type": "stream",
     "text": [
      "3050\n"
     ]
    }
   ],
   "source": [
    "num1=input(\"Enter num1 value: \")\n",
    "num2=input(\"Enter num2 value: \")\n",
    "add=num1+num2\n",
    "print(add)"
   ]
  },
  {
   "cell_type": "code",
   "execution_count": 14,
   "id": "980644f6-c310-4175-a38a-7fae2b0d17e7",
   "metadata": {},
   "outputs": [
    {
     "name": "stdin",
     "output_type": "stream",
     "text": [
      "Enter num1 value:  50\n"
     ]
    }
   ],
   "source": [
    "num1=int(input(\"Enter num1 value: \"))"
   ]
  },
  {
   "cell_type": "code",
   "execution_count": 24,
   "id": "7613cb1c-6354-43dd-81a4-ff278678f900",
   "metadata": {},
   "outputs": [
    {
     "name": "stdin",
     "output_type": "stream",
     "text": [
      "Enter num2 value:  30\n"
     ]
    }
   ],
   "source": [
    "num2=int(input(\"Enter num2 value: \"))"
   ]
  },
  {
   "cell_type": "code",
   "execution_count": 16,
   "id": "87abe585-4cc7-4c3a-89ea-b4ac40da9408",
   "metadata": {},
   "outputs": [],
   "source": [
    "add=num1+num2"
   ]
  },
  {
   "cell_type": "code",
   "execution_count": 17,
   "id": "969861bd-0f33-4729-abb0-b00b9ad35359",
   "metadata": {},
   "outputs": [
    {
     "name": "stdout",
     "output_type": "stream",
     "text": [
      "110\n"
     ]
    }
   ],
   "source": [
    "print(add)"
   ]
  },
  {
   "cell_type": "code",
   "execution_count": 26,
   "id": "ed7390e3-d888-42c7-b3d1-375d452c37af",
   "metadata": {},
   "outputs": [],
   "source": [
    "mul=num2*num1"
   ]
  },
  {
   "cell_type": "code",
   "execution_count": 27,
   "id": "7c61c53a-5ff9-4063-8531-7186ea9efbb0",
   "metadata": {},
   "outputs": [
    {
     "name": "stdout",
     "output_type": "stream",
     "text": [
      "1500\n"
     ]
    }
   ],
   "source": [
    "print(mul)"
   ]
  },
  {
   "cell_type": "code",
   "execution_count": 32,
   "id": "44d7e760-2b7a-422f-9a9e-95488ccec08f",
   "metadata": {},
   "outputs": [
    {
     "ename": "SyntaxError",
     "evalue": "incomplete input (182590117.py, line 1)",
     "output_type": "error",
     "traceback": [
      "\u001b[1;36m  Cell \u001b[1;32mIn[32], line 1\u001b[1;36m\u001b[0m\n\u001b[1;33m    num=int(input(\"Enter value: \")\u001b[0m\n\u001b[1;37m                                  ^\u001b[0m\n\u001b[1;31mSyntaxError\u001b[0m\u001b[1;31m:\u001b[0m incomplete input\n"
     ]
    }
   ],
   "source": [
    "num=int(input(\"Enter value: \")"
   ]
  },
  {
   "cell_type": "code",
   "execution_count": 4,
   "id": "5aedd8b4-dc04-4c32-8dee-f0cfc3a18fe4",
   "metadata": {},
   "outputs": [
    {
     "name": "stdin",
     "output_type": "stream",
     "text": [
      "Enter your input value:  10\n"
     ]
    }
   ],
   "source": [
    "check=int(input(\"Enter your input value: \"))"
   ]
  },
  {
   "cell_type": "code",
   "execution_count": 5,
   "id": "004034f0-21a0-4c36-88c6-f060936dfb28",
   "metadata": {},
   "outputs": [
    {
     "name": "stdout",
     "output_type": "stream",
     "text": [
      "Enter\n"
     ]
    }
   ],
   "source": [
    "checkstring=print('Enter')"
   ]
  },
  {
   "cell_type": "code",
   "execution_count": 1,
   "id": "e3550002-70d6-4285-b0de-0dcc93d8db02",
   "metadata": {},
   "outputs": [
    {
     "name": "stdout",
     "output_type": "stream",
     "text": [
      "<class 'int'>\n"
     ]
    }
   ],
   "source": [
    "typecheck=13\n",
    "print(type(typecheck))"
   ]
  },
  {
   "cell_type": "code",
   "execution_count": 2,
   "id": "a1653fb5-9531-4f56-99dd-590895fe4f7c",
   "metadata": {},
   "outputs": [
    {
     "name": "stdout",
     "output_type": "stream",
     "text": [
      "<class 'str'>\n"
     ]
    }
   ],
   "source": [
    "typecheck='Ponni'\n",
    "print(type(typecheck))"
   ]
  },
  {
   "cell_type": "code",
   "execution_count": 4,
   "id": "88b18120-db54-4903-a711-705ed951493b",
   "metadata": {},
   "outputs": [
    {
     "name": "stdin",
     "output_type": "stream",
     "text": [
      "Enter the value 123\n"
     ]
    },
    {
     "name": "stdout",
     "output_type": "stream",
     "text": [
      "<class 'int'>\n"
     ]
    }
   ],
   "source": [
    "strvalue=int(input('Enter the value'))\n",
    "print(type(strvalue))"
   ]
  },
  {
   "cell_type": "code",
   "execution_count": 5,
   "id": "18cfeb33-4080-441c-a789-6140bae722c5",
   "metadata": {},
   "outputs": [
    {
     "name": "stdin",
     "output_type": "stream",
     "text": [
      "Enter the value Ponni\n"
     ]
    },
    {
     "name": "stdout",
     "output_type": "stream",
     "text": [
      "<class 'str'>\n"
     ]
    }
   ],
   "source": [
    "strvalue=str(input('Enter the value'))\n",
    "print(type(strvalue))"
   ]
  },
  {
   "cell_type": "code",
   "execution_count": null,
   "id": "cafdfa50-e224-4302-b3d1-4f88776856a7",
   "metadata": {},
   "outputs": [],
   "source": []
  }
 ],
 "metadata": {
  "kernelspec": {
   "display_name": "Python [conda env:base] *",
   "language": "python",
   "name": "conda-base-py"
  },
  "language_info": {
   "codemirror_mode": {
    "name": "ipython",
    "version": 3
   },
   "file_extension": ".py",
   "mimetype": "text/x-python",
   "name": "python",
   "nbconvert_exporter": "python",
   "pygments_lexer": "ipython3",
   "version": "3.12.7"
  }
 },
 "nbformat": 4,
 "nbformat_minor": 5
}
