{
 "cells": [
  {
   "cell_type": "code",
   "execution_count": 1,
   "id": "2f2a129f-1955-4385-84f2-1f2117439a1d",
   "metadata": {},
   "outputs": [
    {
     "name": "stdout",
     "output_type": "stream",
     "text": [
      "5\n"
     ]
    }
   ],
   "source": [
    "word='Ponni'\n",
    "print(len(word))"
   ]
  },
  {
   "cell_type": "code",
   "execution_count": 2,
   "id": "0b0b7671-ae06-4cde-a742-2c59b7e7f50f",
   "metadata": {},
   "outputs": [
    {
     "name": "stdout",
     "output_type": "stream",
     "text": [
      "P\n",
      "o\n",
      "n\n",
      "n\n",
      "i\n"
     ]
    }
   ],
   "source": [
    "for i in word:\n",
    "    print(i)"
   ]
  },
  {
   "cell_type": "code",
   "execution_count": 5,
   "id": "58c9d1cb-e0fe-4470-812f-350ca63b722f",
   "metadata": {},
   "outputs": [
    {
     "name": "stdout",
     "output_type": "stream",
     "text": [
      "0\n",
      "1\n",
      "2\n",
      "3\n",
      "4\n"
     ]
    }
   ],
   "source": [
    "for i in range(len(word)):\n",
    "    print(i)"
   ]
  },
  {
   "cell_type": "code",
   "execution_count": 6,
   "id": "0831fe1d-3107-4883-ac98-32baa206b1cc",
   "metadata": {},
   "outputs": [
    {
     "name": "stdout",
     "output_type": "stream",
     "text": [
      "()\n"
     ]
    }
   ],
   "source": [
    "tup=()\n",
    "print(tup)"
   ]
  },
  {
   "cell_type": "code",
   "execution_count": 7,
   "id": "7e326e3f-fd5e-4a8e-9e8e-790dd662fb83",
   "metadata": {},
   "outputs": [
    {
     "name": "stdout",
     "output_type": "stream",
     "text": [
      "1\n"
     ]
    }
   ],
   "source": [
    "tup=(1)\n",
    "print(tup)"
   ]
  },
  {
   "cell_type": "code",
   "execution_count": 8,
   "id": "dc7844dc-00fb-44e8-b33a-7835b1e61c56",
   "metadata": {},
   "outputs": [
    {
     "name": "stdout",
     "output_type": "stream",
     "text": [
      "(1, 'One')\n"
     ]
    }
   ],
   "source": [
    "tup=(1,'One')\n",
    "print(tup)"
   ]
  },
  {
   "cell_type": "code",
   "execution_count": 9,
   "id": "2357ce0a-3d34-4167-806f-01bc5612ecaa",
   "metadata": {},
   "outputs": [
    {
     "name": "stdout",
     "output_type": "stream",
     "text": [
      "(1, 'Welcome', 2, 'Hope')\n"
     ]
    }
   ],
   "source": [
    "tup=(1, 'Welcome', 2, 'Hope')\n",
    "print(tup)"
   ]
  },
  {
   "cell_type": "code",
   "execution_count": 10,
   "id": "382f4782-e005-46e1-8d1b-bc02c2b2a9a7",
   "metadata": {},
   "outputs": [
    {
     "name": "stdout",
     "output_type": "stream",
     "text": [
      "()\n",
      "('Geeks', 'For')\n",
      "(1, 2, 4, 5, 6)\n",
      "('G', 'e', 'e', 'k', 's')\n"
     ]
    }
   ],
   "source": [
    "tup = ()\n",
    "print(tup)\n",
    "\n",
    "# Using String\n",
    "tup = ('Geeks', 'For')\n",
    "print(tup)\n",
    "\n",
    "# Using List\n",
    "li = [1, 2, 4, 5, 6]\n",
    "print(tuple(li))\n",
    "\n",
    "# Using Built-in Function\n",
    "tup = tuple('Geeks')\n",
    "print(tup)"
   ]
  },
  {
   "cell_type": "code",
   "execution_count": 11,
   "id": "6063279b-1642-4155-ae96-5f54a62a7d03",
   "metadata": {},
   "outputs": [
    {
     "name": "stdout",
     "output_type": "stream",
     "text": [
      "(5, 'Welcome', 7, 'Geeks')\n",
      "((0, 1, 2, 3), ('python', 'geek'))\n",
      "('Geeks', 'Geeks', 'Geeks')\n",
      "('Geeks',)\n",
      "(('Geeks',),)\n",
      "((('Geeks',),),)\n",
      "(((('Geeks',),),),)\n",
      "((((('Geeks',),),),),)\n"
     ]
    }
   ],
   "source": [
    "tup = (5, 'Welcome', 7, 'Geeks')\n",
    "print(tup)\n",
    "\n",
    "# Creating a Tuple with nested tuples\n",
    "tup1 = (0, 1, 2, 3)\n",
    "tup2 = ('python', 'geek')\n",
    "tup3 = (tup1, tup2)\n",
    "print(tup3)\n",
    "\n",
    "# Creating a Tuple with repetition\n",
    "tup1 = ('Geeks',) * 3\n",
    "print(tup1)\n",
    "\n",
    "# Creating a Tuple with the use of loop\n",
    "tup = ('Geeks')\n",
    "n = 5\n",
    "for i in range(int(n)):\n",
    "    tup = (tup,)\n",
    "    print(tup)"
   ]
  },
  {
   "cell_type": "code",
   "execution_count": 12,
   "id": "e38616f0-473a-445c-9f0a-ae945d1524c4",
   "metadata": {},
   "outputs": [
    {
     "name": "stdout",
     "output_type": "stream",
     "text": [
      "G\n",
      "('e', 'e', 'k')\n",
      "('G', 'e', 'e')\n",
      "Geeks\n",
      "For\n",
      "Geeks\n"
     ]
    }
   ],
   "source": [
    "# Accessing Tuple with Indexing\n",
    "tup = tuple(\"Geeks\")\n",
    "print(tup[0])\n",
    "\n",
    "# Accessing a range of elements using slicing\n",
    "print(tup[1:4])  \n",
    "print(tup[:3])\n",
    "\n",
    "# Tuple unpacking\n",
    "tup = (\"Geeks\", \"For\", \"Geeks\")\n",
    "\n",
    "# This line unpack values of Tuple1\n",
    "a, b, c = tup\n",
    "print(a)\n",
    "print(b)\n",
    "print(c)"
   ]
  },
  {
   "cell_type": "code",
   "execution_count": null,
   "id": "e5b50e99-c53f-40af-a622-f25a0750ee0d",
   "metadata": {},
   "outputs": [],
   "source": []
  }
 ],
 "metadata": {
  "kernelspec": {
   "display_name": "Python [conda env:base] *",
   "language": "python",
   "name": "conda-base-py"
  },
  "language_info": {
   "codemirror_mode": {
    "name": "ipython",
    "version": 3
   },
   "file_extension": ".py",
   "mimetype": "text/x-python",
   "name": "python",
   "nbconvert_exporter": "python",
   "pygments_lexer": "ipython3",
   "version": "3.12.7"
  }
 },
 "nbformat": 4,
 "nbformat_minor": 5
}
