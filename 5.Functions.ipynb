{
 "cells": [
  {
   "cell_type": "code",
   "execution_count": 19,
   "id": "e38b6ca6-d25a-4838-9300-278d2802edb6",
   "metadata": {},
   "outputs": [],
   "source": [
    "def BMI():\n",
    "    bmiindex=int(input(\"Enter the BMI Index:\"))\n",
    "    if(bmiindex<18.5):\n",
    "        print(\"Underweight\")\n",
    "        message=\"Underweight\"\n",
    "    elif((bmiindex>18.5) and (bmiindex<24.9)):\n",
    "        print(\"Normal Range\")\n",
    "        message=\"Normal Range\"\n",
    "    elif((bmiindex>25) and (bmiindex<29.9)):\n",
    "        print(\"Over Weight\") \n",
    "        message=\"Over Weight\"\n",
    "    elif((bmiindex>30) and (bmiindex<34.9)):\n",
    "        print(\"Obese Class I\")\n",
    "        message=\"Obese Class I\"\n",
    "    elif((bmiindex>35) and (bmiindex<39.9)):\n",
    "        print(\"Obese Class II\")\n",
    "        message=\"Obese Class II\"\n",
    "    else:\n",
    "        print(\"Obese Class III\")\n",
    "        message=\"Obese Class III\"\n",
    "    return message"
   ]
  },
  {
   "cell_type": "code",
   "execution_count": 23,
   "id": "fe52a54b-6ace-494a-954d-af0196a92904",
   "metadata": {},
   "outputs": [
    {
     "name": "stdin",
     "output_type": "stream",
     "text": [
      "Enter the BMI Index: 23\n"
     ]
    },
    {
     "name": "stdout",
     "output_type": "stream",
     "text": [
      "Normal Range\n"
     ]
    }
   ],
   "source": [
    "BMIIndex=BMI()"
   ]
  },
  {
   "cell_type": "code",
   "execution_count": 24,
   "id": "2f3dd9d3-c99b-431a-949a-56d61be58953",
   "metadata": {},
   "outputs": [
    {
     "data": {
      "text/plain": [
       "'Normal Range'"
      ]
     },
     "execution_count": 24,
     "metadata": {},
     "output_type": "execute_result"
    }
   ],
   "source": [
    "BMIIndex"
   ]
  },
  {
   "cell_type": "code",
   "execution_count": 25,
   "id": "23d17689-ec7b-4b68-a424-a9721d1dcd89",
   "metadata": {},
   "outputs": [],
   "source": [
    "def addition(num1,num2):\n",
    "    add=num1+num2\n",
    "    return add"
   ]
  },
  {
   "cell_type": "code",
   "execution_count": 27,
   "id": "794b9f90-48d4-4e33-813a-35f49329a74e",
   "metadata": {},
   "outputs": [
    {
     "data": {
      "text/plain": [
       "13"
      ]
     },
     "execution_count": 27,
     "metadata": {},
     "output_type": "execute_result"
    }
   ],
   "source": [
    "addition(4,9)"
   ]
  },
  {
   "cell_type": "code",
   "execution_count": 30,
   "id": "c9aa0d28-c1ee-4cfc-8be0-37890cf19095",
   "metadata": {},
   "outputs": [],
   "source": [
    "def subtraction(num1,num2):\n",
    "    sub=num1-num2\n",
    "    return sub"
   ]
  },
  {
   "cell_type": "code",
   "execution_count": 31,
   "id": "7a8ed8bd-7640-44cf-bbc2-5d04e4837d32",
   "metadata": {},
   "outputs": [
    {
     "data": {
      "text/plain": [
       "5"
      ]
     },
     "execution_count": 31,
     "metadata": {},
     "output_type": "execute_result"
    }
   ],
   "source": [
    "subtraction(9,4)"
   ]
  },
  {
   "cell_type": "code",
   "execution_count": 32,
   "id": "9aa55e43-cf5e-4120-8ff7-ba74b4716dcb",
   "metadata": {},
   "outputs": [
    {
     "data": {
      "text/plain": [
       "-5"
      ]
     },
     "execution_count": 32,
     "metadata": {},
     "output_type": "execute_result"
    }
   ],
   "source": [
    "subtraction(4,9)"
   ]
  },
  {
   "cell_type": "code",
   "execution_count": null,
   "id": "6d3df3e6-fa76-408a-a6ae-cd53adadff48",
   "metadata": {},
   "outputs": [],
   "source": []
  }
 ],
 "metadata": {
  "kernelspec": {
   "display_name": "Python [conda env:base] *",
   "language": "python",
   "name": "conda-base-py"
  },
  "language_info": {
   "codemirror_mode": {
    "name": "ipython",
    "version": 3
   },
   "file_extension": ".py",
   "mimetype": "text/x-python",
   "name": "python",
   "nbconvert_exporter": "python",
   "pygments_lexer": "ipython3",
   "version": "3.12.7"
  }
 },
 "nbformat": 4,
 "nbformat_minor": 5
}
