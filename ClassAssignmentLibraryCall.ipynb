{
 "cells": [
  {
   "cell_type": "code",
   "execution_count": 1,
   "id": "d01a1bc3-764e-4830-b545-c6ea2b97aa92",
   "metadata": {},
   "outputs": [],
   "source": [
    "from ClassAssignmentLibrary import ClassAssignmentLibraryAll"
   ]
  },
  {
   "cell_type": "code",
   "execution_count": 2,
   "id": "e52cb011-8c23-421b-85bf-f93fe3aa2944",
   "metadata": {},
   "outputs": [
    {
     "name": "stdout",
     "output_type": "stream",
     "text": [
      "Sub-fields in AI are:\n",
      "Machine Learning\n",
      "Neural Networks\n",
      "Vision\n",
      "Robotics\n",
      "Speech Processing\n",
      "Natural Language Processing\n"
     ]
    }
   ],
   "source": [
    "ClassAssignmentLibraryAll.Subfields()"
   ]
  },
  {
   "cell_type": "code",
   "execution_count": 3,
   "id": "ce72dc79-1a75-469f-be51-f977e3d54c1b",
   "metadata": {},
   "outputs": [
    {
     "name": "stdin",
     "output_type": "stream",
     "text": [
      "Enter a number: 6780\n"
     ]
    },
    {
     "name": "stdout",
     "output_type": "stream",
     "text": [
      "6780 is Even number\n"
     ]
    }
   ],
   "source": [
    "ClassAssignmentLibraryAll.OddEven()"
   ]
  },
  {
   "cell_type": "code",
   "execution_count": 4,
   "id": "abcec7fe-5d9b-48e7-8414-4b6156a61248",
   "metadata": {},
   "outputs": [
    {
     "name": "stdin",
     "output_type": "stream",
     "text": [
      "Your Gender: Female\n",
      "Your Age: 18\n"
     ]
    },
    {
     "name": "stdout",
     "output_type": "stream",
     "text": [
      "NOT ELIGIBLE\n"
     ]
    }
   ],
   "source": [
    "ClassAssignmentLibraryAll.Elegible()"
   ]
  },
  {
   "cell_type": "code",
   "execution_count": 5,
   "id": "4929bc01-3621-4c82-9418-5dc33b62a84c",
   "metadata": {},
   "outputs": [
    {
     "name": "stdin",
     "output_type": "stream",
     "text": [
      "Subject1 = 100\n",
      "Subject2 = 99\n",
      "Subject3 = 98\n",
      "Subject4 = 96\n",
      "Subject5 = 95\n"
     ]
    },
    {
     "name": "stdout",
     "output_type": "stream",
     "text": [
      "Total : 488\n",
      "Percentage : 97.6\n"
     ]
    }
   ],
   "source": [
    "ClassAssignmentLibraryAll.percentage()"
   ]
  },
  {
   "cell_type": "code",
   "execution_count": 6,
   "id": "8b078010-7959-4c88-9701-529ad03300e6",
   "metadata": {},
   "outputs": [
    {
     "name": "stdin",
     "output_type": "stream",
     "text": [
      "Height = 87\n",
      "Breadth = 89\n"
     ]
    },
    {
     "name": "stdout",
     "output_type": "stream",
     "text": [
      "Area formula : (Height*Breadth)/2\n",
      "Area of Triangle : 3871.5\n"
     ]
    },
    {
     "name": "stdin",
     "output_type": "stream",
     "text": [
      "Height1 = 45\n",
      "Height2 = 67\n",
      "Breadthp = 90\n"
     ]
    },
    {
     "name": "stdout",
     "output_type": "stream",
     "text": [
      "Perimeter formula : Height1+Height2+Breadthp\n",
      "Perimeter of Triangle : 202\n"
     ]
    }
   ],
   "source": [
    "ClassAssignmentLibraryAll.triangle()"
   ]
  },
  {
   "cell_type": "code",
   "execution_count": null,
   "id": "a8603e97-7384-4d13-92a5-94555b6f226c",
   "metadata": {},
   "outputs": [],
   "source": []
  }
 ],
 "metadata": {
  "kernelspec": {
   "display_name": "Python [conda env:base] *",
   "language": "python",
   "name": "conda-base-py"
  },
  "language_info": {
   "codemirror_mode": {
    "name": "ipython",
    "version": 3
   },
   "file_extension": ".py",
   "mimetype": "text/x-python",
   "name": "python",
   "nbconvert_exporter": "python",
   "pygments_lexer": "ipython3",
   "version": "3.12.7"
  }
 },
 "nbformat": 4,
 "nbformat_minor": 5
}
