{
 "cells": [
  {
   "cell_type": "code",
   "execution_count": 7,
   "id": "60ca71a1-5973-4d79-901d-e1d310a15622",
   "metadata": {},
   "outputs": [
    {
     "name": "stdout",
     "output_type": "stream",
     "text": [
      "['a', 'b', 'c']\n"
     ]
    }
   ],
   "source": [
    "# Get keys from dictionary\n",
    "dictionary = {\"a\": 1, \"b\": 2, \"c\": 3} \n",
    "keys = list(dictionary.keys()) \n",
    "print(keys)"
   ]
  },
  {
   "cell_type": "code",
   "execution_count": 8,
   "id": "7fcf62c8-0b90-47c8-a52e-42cfa4387665",
   "metadata": {},
   "outputs": [
    {
     "name": "stdout",
     "output_type": "stream",
     "text": [
      "[1, 2, 3]\n"
     ]
    }
   ],
   "source": [
    "# Get values from dictionary\n",
    "dictionary = {\"a\": 1, \"b\": 2, \"c\": 3} \n",
    "keys = list(dictionary.values()) \n",
    "print(keys)"
   ]
  },
  {
   "cell_type": "code",
   "execution_count": 11,
   "id": "b72849e1-4f9a-4e43-b02f-76477fa89e19",
   "metadata": {},
   "outputs": [
    {
     "name": "stdout",
     "output_type": "stream",
     "text": [
      "[('a', 1), ('b', 2), ('c', 3)]\n"
     ]
    }
   ],
   "source": [
    "# Get items from dictionary\n",
    "dictionary = {\"a\": 1, \"b\": 2, \"c\": 3} \n",
    "keys = list(dictionary.items()) \n",
    "print(keys)"
   ]
  },
  {
   "cell_type": "code",
   "execution_count": 12,
   "id": "8cfd8518-8fb9-4653-b696-7c1c9282ba82",
   "metadata": {},
   "outputs": [
    {
     "name": "stdout",
     "output_type": "stream",
     "text": [
      "Original Marks: {'Physics': 67, 'Maths': 87}\n",
      "Copied Marks: {'Physics': 67, 'Maths': 87}\n"
     ]
    }
   ],
   "source": [
    "# Copy dictionary\n",
    "original_marks = {'Physics':67, 'Maths':87}\n",
    "copied_marks = original_marks.copy()\n",
    "print('Original Marks:', original_marks)\n",
    "print('Copied Marks:', copied_marks)"
   ]
  },
  {
   "cell_type": "code",
   "execution_count": 13,
   "id": "9a7ee94e-48e7-4b87-a2e3-e749fe586def",
   "metadata": {},
   "outputs": [
    {
     "name": "stdout",
     "output_type": "stream",
     "text": [
      "new:  {}\n",
      "original:  {}\n"
     ]
    }
   ],
   "source": [
    "# removing all elements from both the list\n",
    "original = {1:'one', 2:'two'}\n",
    "new = original\n",
    "new.clear()\n",
    "print('new: ', new)\n",
    "print('original: ', original)"
   ]
  },
  {
   "cell_type": "code",
   "execution_count": 14,
   "id": "c7f332a0-a6d6-42f6-9d6b-3d71e36c9a7d",
   "metadata": {},
   "outputs": [
    {
     "name": "stdout",
     "output_type": "stream",
     "text": [
      "new:  {}\n",
      "original:  {1: 'one', 2: 'two'}\n"
     ]
    }
   ],
   "source": [
    "# removing all elements from the copied list\n",
    "original = {1:'one', 2:'two'}\n",
    "new = original.copy()\n",
    "new.clear()\n",
    "print('new: ', new)\n",
    "print('original: ', original)"
   ]
  },
  {
   "cell_type": "code",
   "execution_count": 20,
   "id": "21259923-d840-4e3b-9418-e10eb93006df",
   "metadata": {},
   "outputs": [
    {
     "name": "stdout",
     "output_type": "stream",
     "text": [
      "{'c': 1, 'a': 1, 'b': 1}\n"
     ]
    }
   ],
   "source": [
    "# keys for the dictionary\n",
    "alphabets = {'a', 'b', 'c'}\n",
    "# value for the dictionary\n",
    "number = 1\n",
    "# creates a dictionary with keys and values\n",
    "dictionary = dict.fromkeys(alphabets, number)\n",
    "print(dictionary)"
   ]
  },
  {
   "cell_type": "code",
   "execution_count": 21,
   "id": "49cc42a9-82a2-450d-a2e3-16349c42f5aa",
   "metadata": {},
   "outputs": [
    {
     "name": "stdout",
     "output_type": "stream",
     "text": [
      "{'u': 'vowel', 'o': 'vowel', 'a': 'vowel', 'i': 'vowel', 'e': 'vowel'}\n"
     ]
    }
   ],
   "source": [
    "# set of vowels\n",
    "keys = {'a', 'e', 'i', 'o', 'u' }\n",
    "# assign string to the value\n",
    "value = 'vowel'\n",
    "# creates a dictionary with keys and values\n",
    "vowels = dict.fromkeys(keys, value)\n",
    "print(vowels)"
   ]
  },
  {
   "cell_type": "code",
   "execution_count": 22,
   "id": "16928b41-88ba-4eb0-a360-16a35f2f27b7",
   "metadata": {},
   "outputs": [
    {
     "name": "stdout",
     "output_type": "stream",
     "text": [
      "{1: None, 2: None, 4: None}\n"
     ]
    }
   ],
   "source": [
    "# list of numbers\n",
    "keys = [1, 2, 4 ]\n",
    "# creates a dictionary with keys only (without any values\n",
    "numbers = dict.fromkeys(keys)\n",
    "print(numbers)"
   ]
  },
  {
   "cell_type": "code",
   "execution_count": 23,
   "id": "c6bbbb9f-8e16-4997-babf-55060eb9fa98",
   "metadata": {},
   "outputs": [
    {
     "name": "stdout",
     "output_type": "stream",
     "text": [
      "{'u': [1], 'o': [1], 'a': [1], 'i': [1], 'e': [1]}\n",
      "{'u': [1, 2], 'o': [1, 2], 'a': [1, 2], 'i': [1, 2], 'e': [1, 2]}\n"
     ]
    }
   ],
   "source": [
    "# set of vowels\n",
    "keys = {'a', 'e', 'i', 'o', 'u' }\n",
    "# list of number\n",
    "value = [1]\n",
    "vowels = dict.fromkeys(keys, value)\n",
    "print(vowels)\n",
    "# updates the list value\n",
    "value.append(2)\n",
    "print(vowels)"
   ]
  },
  {
   "cell_type": "code",
   "execution_count": 24,
   "id": "d2eb2369-6990-4568-be0d-d77d778a5ccd",
   "metadata": {},
   "outputs": [
    {
     "name": "stdout",
     "output_type": "stream",
     "text": [
      "{'u': [1], 'o': [1], 'a': [1], 'i': [1], 'e': [1]}\n",
      "{'u': [1], 'o': [1], 'a': [1], 'i': [1], 'e': [1]}\n"
     ]
    }
   ],
   "source": [
    "# vowels keys\n",
    "keys = {'a', 'e', 'i', 'o', 'u' }\n",
    "value = [1]\n",
    "# creates dictionary using dictionary comprehension\n",
    "vowels = { key : list(value) for key in keys }\n",
    "print(vowels)\n",
    "# updates the value list\n",
    "value.append(2)\n",
    "print(vowels)"
   ]
  },
  {
   "cell_type": "code",
   "execution_count": 32,
   "id": "fef23105-3881-4379-b43f-4da8138a743a",
   "metadata": {},
   "outputs": [
    {
     "name": "stdout",
     "output_type": "stream",
     "text": [
      "75\n"
     ]
    }
   ],
   "source": [
    "# Get values from dictionary\n",
    "scores = {\n",
    "    'Physics': 67, \n",
    "    'Maths': 87,\n",
    "    'History': 75\n",
    "}\n",
    "result = scores.get('History')\n",
    "print(result)"
   ]
  },
  {
   "cell_type": "code",
   "execution_count": 33,
   "id": "e393a3ec-9855-4a5d-b578-dc245c5fb3f4",
   "metadata": {},
   "outputs": [
    {
     "name": "stdout",
     "output_type": "stream",
     "text": [
      "Name:  Phill\n",
      "Age:  22\n",
      "Salary:  None\n",
      "Salary:  0.0\n"
     ]
    }
   ],
   "source": [
    "person = {'name': 'Phill', 'age': 22}\n",
    "print('Name: ', person.get('name'))\n",
    "print('Age: ', person.get('age'))\n",
    "# value is not provided\n",
    "print('Salary: ', person.get('salary'))\n",
    "# value is provided\n",
    "print('Salary: ', person.get('salary', 0.0))"
   ]
  },
  {
   "cell_type": "code",
   "execution_count": 38,
   "id": "ef236cf2-d751-4470-a568-89d55dc611a0",
   "metadata": {},
   "outputs": [
    {
     "name": "stdout",
     "output_type": "stream",
     "text": [
      "Salary:  None\n"
     ]
    }
   ],
   "source": [
    "person = {}\n",
    "# Using get() results in None\n",
    "print('Salary: ', person.get('salary'))\n",
    "# Using [] results in KeyError\n",
    "#print(person['salary']) --Throw key error"
   ]
  },
  {
   "cell_type": "code",
   "execution_count": 40,
   "id": "6ddae144-7e3c-4645-8562-202c78f32d9e",
   "metadata": {},
   "outputs": [
    {
     "name": "stdout",
     "output_type": "stream",
     "text": [
      "dict_items([('Physics', 67), ('Maths', 87)])\n"
     ]
    }
   ],
   "source": [
    "#Get items from dictionary\n",
    "marks = {'Physics':67, 'Maths':87}\n",
    "print(marks.items())"
   ]
  },
  {
   "cell_type": "code",
   "execution_count": 41,
   "id": "35509b69-b17d-4f6e-b0fd-b75854f6118b",
   "metadata": {},
   "outputs": [
    {
     "name": "stdout",
     "output_type": "stream",
     "text": [
      "Original items: dict_items([('apple', 2), ('orange', 3), ('grapes', 4)])\n",
      "Updated items: dict_items([('orange', 3), ('grapes', 4)])\n"
     ]
    }
   ],
   "source": [
    "# random sales dictionary\n",
    "sales = { 'apple': 2, 'orange': 3, 'grapes': 4 }\n",
    "items = sales.items()\n",
    "print('Original items:', items)\n",
    "# delete an item from dictionary\n",
    "del[sales['apple']]\n",
    "print('Updated items:', items)"
   ]
  },
  {
   "cell_type": "code",
   "execution_count": 42,
   "id": "25bd710a-852a-404d-ad60-6a885ac3d66f",
   "metadata": {},
   "outputs": [
    {
     "name": "stdout",
     "output_type": "stream",
     "text": [
      "Return Value =  ('salary', 3500.0)\n",
      "person =  {'name': 'Phill', 'age': 22}\n",
      "Return Value =  ('profession', 'Plumber')\n",
      "person =  {'name': 'Phill', 'age': 22}\n"
     ]
    }
   ],
   "source": [
    "person = {'name': 'Phill', 'age': 22, 'salary': 3500.0}\n",
    "# ('salary', 3500.0) is inserted at the last, so it is removed.\n",
    "result = person.popitem()\n",
    "print('Return Value = ', result)\n",
    "print('person = ', person)\n",
    "# inserting a new element pair\n",
    "person['profession'] = 'Plumber'\n",
    "# now ('profession', 'Plumber') is the latest element\n",
    "result = person.popitem()\n",
    "print('Return Value = ', result)\n",
    "print('person = ', person)"
   ]
  },
  {
   "cell_type": "code",
   "execution_count": 43,
   "id": "92f0c919-208c-411a-8de5-494c117a6aac",
   "metadata": {},
   "outputs": [
    {
     "name": "stdout",
     "output_type": "stream",
     "text": [
      "person =  {'name': 'Phill', 'age': 22}\n",
      "Age =  22\n"
     ]
    }
   ],
   "source": [
    "person = {'name': 'Phill', 'age': 22}\n",
    "age = person.setdefault('age')\n",
    "print('person = ',person)\n",
    "print('Age = ',age)"
   ]
  },
  {
   "cell_type": "code",
   "execution_count": 45,
   "id": "a41eb7f5-168e-4d99-b336-5035b50b18c7",
   "metadata": {},
   "outputs": [
    {
     "name": "stdout",
     "output_type": "stream",
     "text": [
      "person =  {'name': 'Phill', 'salary': None}\n",
      "salary =  None\n",
      "person =  {'name': 'Phill', 'salary': None, 'age': 25}\n",
      "age =  25\n"
     ]
    }
   ],
   "source": [
    "person = {'name': 'Phill'}\n",
    "# key is not in the dictionary\n",
    "salary = person.setdefault('salary')\n",
    "print('person = ',person)\n",
    "print('salary = ',salary)\n",
    "# key is not in the dictionary\n",
    "# default_value is provided\n",
    "age = person.setdefault('age', 25)\n",
    "print('person = ',person)\n",
    "print('age = ',age)"
   ]
  },
  {
   "cell_type": "code",
   "execution_count": 46,
   "id": "13221f2c-b3d7-4f83-a7b5-eb898955fa29",
   "metadata": {},
   "outputs": [
    {
     "name": "stdout",
     "output_type": "stream",
     "text": [
      "Popped Marks: 72\n"
     ]
    }
   ],
   "source": [
    "# create a dictionary\n",
    "marks = { 'Physics': 67, 'Chemistry': 72, 'Math': 89 }\n",
    "element = marks.pop('Chemistry')\n",
    "print('Popped Marks:', element)"
   ]
  },
  {
   "cell_type": "code",
   "execution_count": 47,
   "id": "137b4f29-f41d-47f1-9ac0-46fe1b287138",
   "metadata": {},
   "outputs": [
    {
     "name": "stdout",
     "output_type": "stream",
     "text": [
      "The popped element is: 2\n",
      "The dictionary is: {'orange': 3, 'grapes': 4}\n"
     ]
    }
   ],
   "source": [
    "# random sales dictionary\n",
    "sales = { 'apple': 2, 'orange': 3, 'grapes': 4 }\n",
    "element = sales.pop('apple')\n",
    "print('The popped element is:', element)\n",
    "print('The dictionary is:', sales)"
   ]
  },
  {
   "cell_type": "code",
   "execution_count": 50,
   "id": "760467b1-8520-49f2-a0f2-a4e4947ae09e",
   "metadata": {},
   "outputs": [
    {
     "name": "stdout",
     "output_type": "stream",
     "text": [
      "{'apple': 2, 'orange': 3, 'grapes': 4}\n"
     ]
    }
   ],
   "source": [
    "# random sales dictionary\n",
    "sales = { 'apple': 2, 'orange': 3, 'grapes': 4 }\n",
    "print(sales)\n",
    "#element = sales.pop('guava') Key error when guava key not present in dictionary"
   ]
  },
  {
   "cell_type": "code",
   "execution_count": 51,
   "id": "11ac87f9-dd7a-4c18-80be-c8ea29383d9d",
   "metadata": {},
   "outputs": [
    {
     "name": "stdout",
     "output_type": "stream",
     "text": [
      "The popped element is: banana\n",
      "The dictionary is: {'apple': 2, 'orange': 3, 'grapes': 4}\n"
     ]
    }
   ],
   "source": [
    "# random sales dictionary\n",
    "sales = { 'apple': 2, 'orange': 3, 'grapes': 4 }\n",
    "element = sales.pop('guava', 'banana')\n",
    "print('The popped element is:', element)\n",
    "print('The dictionary is:', sales)"
   ]
  },
  {
   "cell_type": "code",
   "execution_count": 55,
   "id": "e0c7091e-ec29-4dcd-9aef-16ccaad29ef0",
   "metadata": {},
   "outputs": [
    {
     "name": "stdout",
     "output_type": "stream",
     "text": [
      "{'Physics': 67, 'Maths': 87, 'Practical': 48}\n"
     ]
    }
   ],
   "source": [
    "marks = {'Physics':67, 'Maths':87}\n",
    "internal_marks = {'Practical':48}\n",
    "marks.update(internal_marks)\n",
    "print(marks)"
   ]
  },
  {
   "cell_type": "code",
   "execution_count": 56,
   "id": "8cfc94c6-6a73-47a4-a962-c4e67f5c596c",
   "metadata": {},
   "outputs": [
    {
     "name": "stdout",
     "output_type": "stream",
     "text": [
      "{1: 'one', 2: 'two'}\n",
      "{1: 'one', 2: 'two', 3: 'three'}\n"
     ]
    }
   ],
   "source": [
    "d = {1: \"one\", 2: \"three\"}\n",
    "d1 = {2: \"two\"}\n",
    "# updates the value of key 2\n",
    "d.update(d1)\n",
    "print(d)\n",
    "d1 = {3: \"three\"}\n",
    "# adds element with key 3\n",
    "d.update(d1)\n",
    "print(d)"
   ]
  },
  {
   "cell_type": "code",
   "execution_count": 57,
   "id": "1e025fe0-56af-4129-b318-1d0e1711cf93",
   "metadata": {},
   "outputs": [
    {
     "name": "stdout",
     "output_type": "stream",
     "text": [
      "{'x': 2, 'y': 3, 'z': 0}\n"
     ]
    }
   ],
   "source": [
    "dictionary = {'x': 2}\n",
    "dictionary.update([('y', 3), ('z', 0)])\n",
    "print(dictionary)"
   ]
  },
  {
   "cell_type": "code",
   "execution_count": 59,
   "id": "3af0d4ea-2914-4a4e-94d7-4a1f9b16b18d",
   "metadata": {},
   "outputs": [
    {
     "name": "stdout",
     "output_type": "stream",
     "text": [
      "(3, 6, 9)\n"
     ]
    }
   ],
   "source": [
    "numbers = (1, 2, 3, 4, 5, 6, 7, 8, 9)\n",
    "divisible_by_3 = tuple(filter(lambda x: x % 3 == 0, numbers))\n",
    "print(divisible_by_3)"
   ]
  },
  {
   "cell_type": "code",
   "execution_count": 70,
   "id": "adc91e39-74a5-44b7-8bbd-f406c87daa42",
   "metadata": {},
   "outputs": [
    {
     "name": "stdout",
     "output_type": "stream",
     "text": [
      "3\n",
      "6\n",
      "9\n"
     ]
    }
   ],
   "source": [
    "for temp in numbers:\n",
    "    if(temp % 3 == 0):\n",
    "        print(temp)"
   ]
  },
  {
   "cell_type": "code",
   "execution_count": 71,
   "id": "e7c190cd-9a79-4463-92f8-7c0ba8b36da5",
   "metadata": {},
   "outputs": [
    {
     "name": "stdout",
     "output_type": "stream",
     "text": [
      "<class 'int'>\n"
     ]
    }
   ],
   "source": [
    "#Get datatype of variable\n",
    "variable = 42\n",
    "print(type(variable))"
   ]
  },
  {
   "cell_type": "code",
   "execution_count": 73,
   "id": "c83d5369-dbd7-4c40-9d78-f67d2e7aa279",
   "metadata": {},
   "outputs": [
    {
     "name": "stdout",
     "output_type": "stream",
     "text": [
      "123\n",
      "<class 'str'>\n",
      "<class 'int'>\n"
     ]
    }
   ],
   "source": [
    "#Convert string to integer\n",
    "string_number = \"123\"\n",
    "integer_number = int(string_number)\n",
    "print(integer_number)\n",
    "print(type(string_number))\n",
    "print(type(integer_number))\n"
   ]
  },
  {
   "cell_type": "code",
   "execution_count": 76,
   "id": "9cff3f5c-eb34-4ed8-96bc-a6e4657c0379",
   "metadata": {},
   "outputs": [],
   "source": [
    "#Delete file in python\n",
    "import os\n",
    "#os.remove(\"filename.txt\") Throw file not found error since file does not exists"
   ]
  },
  {
   "cell_type": "code",
   "execution_count": 75,
   "id": "6b71f703-c65e-47a0-8468-3af5c4115745",
   "metadata": {},
   "outputs": [
    {
     "name": "stdout",
     "output_type": "stream",
     "text": [
      "3\n"
     ]
    }
   ],
   "source": [
    "#Access an element from list\n",
    "my_list = [1, 2, 3, 4]\n",
    "print(my_list[2])"
   ]
  },
  {
   "cell_type": "code",
   "execution_count": 107,
   "id": "48cdded7-c50f-4549-ad46-1154c4281b6a",
   "metadata": {},
   "outputs": [
    {
     "name": "stdout",
     "output_type": "stream",
     "text": [
      "[1, 2, 3, 4, 5, 6]\n",
      "4\n",
      "[1, 2, 4, 5, 6]\n",
      "[1, 2, 4, 6]\n",
      "1\n",
      "2\n",
      "4\n",
      "6\n",
      "[1, 4, 6]\n",
      "1\n",
      "4\n",
      "6\n"
     ]
    }
   ],
   "source": [
    "#Different ways of deleting an element\n",
    "my_list = [1, 2, 3, 4, 5, 6]\n",
    "print(my_list)\n",
    "del my_list[2]\n",
    "print(my_list[2])\n",
    "print(my_list)\n",
    "my_list.remove(5)\n",
    "print(my_list)\n",
    "print(my_list[0])\n",
    "print(my_list[1])\n",
    "print(my_list[2])\n",
    "print(my_list[3])\n",
    "my_list.pop(1)\n",
    "print(my_list)\n",
    "print(my_list[0])\n",
    "print(my_list[1])\n",
    "print(my_list[2])"
   ]
  },
  {
   "cell_type": "code",
   "execution_count": 109,
   "id": "70fe4e0d-12d0-4ea9-8cfc-497b313c73b8",
   "metadata": {},
   "outputs": [],
   "source": [
    "my_list = [1,2,3,4]\n",
    "del my_list\n",
    "#print(my_list) --Throw name not defined error since it was deleted"
   ]
  },
  {
   "cell_type": "code",
   "execution_count": 110,
   "id": "436ba3d3-7a01-4ba3-86bc-41166399c7d1",
   "metadata": {},
   "outputs": [
    {
     "name": "stdout",
     "output_type": "stream",
     "text": [
      "[4, 3, 2, 1]\n"
     ]
    }
   ],
   "source": [
    "#To reverse an array\n",
    "my_list = [1, 2, 3, 4]\n",
    "my_list.reverse()\n",
    "print(my_list)"
   ]
  },
  {
   "cell_type": "code",
   "execution_count": 111,
   "id": "797c161f-4c74-4a70-8f8a-af3f468593e6",
   "metadata": {},
   "outputs": [
    {
     "name": "stdout",
     "output_type": "stream",
     "text": [
      "array('i', [1, 2, 3, 4])\n",
      "3\n",
      "array('i', [1, 2, 5, 4])\n",
      "array('i', [1, 2, 4])\n"
     ]
    }
   ],
   "source": [
    "import array as arr\n",
    "my_array = arr.array('i', [1, 2, 3, 4])\n",
    "print(my_array)\n",
    "# Get\n",
    "print(my_array[2])\n",
    "# Update\n",
    "my_array[2] = 5 \n",
    "print(my_array)\n",
    "# Delete\n",
    "del my_array[2]\n",
    "print(my_array)"
   ]
  },
  {
   "cell_type": "code",
   "execution_count": 112,
   "id": "d5e6bc5b-f0c5-4fb6-aa1a-ecc72da27816",
   "metadata": {},
   "outputs": [
    {
     "name": "stdout",
     "output_type": "stream",
     "text": [
      "[1, 4, 9, 16]\n"
     ]
    }
   ],
   "source": [
    "#Get square of all numbers from list\n",
    "numbers = [1, 2, 3, 4]\n",
    "squares = [x**2 for x in numbers]\n",
    "print(squares)"
   ]
  },
  {
   "cell_type": "code",
   "execution_count": 113,
   "id": "209c5121-f6c6-4123-a889-d1e498bd6c31",
   "metadata": {},
   "outputs": [
    {
     "name": "stdout",
     "output_type": "stream",
     "text": [
      "False\n",
      "True\n",
      "False\n"
     ]
    }
   ],
   "source": [
    "a = True\n",
    "b = False\n",
    "print(a and b)\n",
    "print(a or b)\n",
    "print(not a)"
   ]
  },
  {
   "cell_type": "code",
   "execution_count": 121,
   "id": "b8e04398-9c9c-48c7-ada5-07f4d5feba2c",
   "metadata": {},
   "outputs": [
    {
     "name": "stdout",
     "output_type": "stream",
     "text": [
      "5\n"
     ]
    }
   ],
   "source": [
    "#Addition using lambda\n",
    "add = lambda x, y: x + y\n",
    "print(add(2,3))"
   ]
  },
  {
   "cell_type": "code",
   "execution_count": 119,
   "id": "7ae65037-5b20-48fa-b25b-08c34a3e9fd4",
   "metadata": {},
   "outputs": [
    {
     "name": "stdout",
     "output_type": "stream",
     "text": [
      "36\n"
     ]
    }
   ],
   "source": [
    "#Square using lambda\n",
    "square = lambda s:s**2\n",
    "print(square(6))"
   ]
  },
  {
   "cell_type": "code",
   "execution_count": 120,
   "id": "765ce507-f44b-439f-b0d1-b0d61a559c03",
   "metadata": {},
   "outputs": [
    {
     "name": "stdout",
     "output_type": "stream",
     "text": [
      "9\n"
     ]
    }
   ],
   "source": [
    "#perimeter of a triangle\n",
    "perimeter = lambda l,b,w:l+b+w\n",
    "print(perimeter(2,3,4))"
   ]
  },
  {
   "cell_type": "code",
   "execution_count": 125,
   "id": "ac2dd0a5-89f0-45f6-87b1-4673b08c1f4f",
   "metadata": {},
   "outputs": [
    {
     "name": "stdout",
     "output_type": "stream",
     "text": [
      "[0, 4, 16, 36, 64, 100]\n"
     ]
    }
   ],
   "source": [
    "#Code to generate square for all even number from 0 to 10\n",
    "squares = [x**2 for x in range(11) if x % 2 == 0]\n",
    "print(squares)"
   ]
  },
  {
   "cell_type": "code",
   "execution_count": 126,
   "id": "b0c631a6-6210-44c2-a248-71f4ba5d97b0",
   "metadata": {},
   "outputs": [
    {
     "name": "stdout",
     "output_type": "stream",
     "text": [
      "[1, 9, 25, 49, 81]\n"
     ]
    }
   ],
   "source": [
    "#Code to generate square for all odd number from 0 to 10\n",
    "squares = [x**2 for x in range(11) if x % 2 != 0]\n",
    "print(squares)"
   ]
  },
  {
   "cell_type": "code",
   "execution_count": 128,
   "id": "daf1eaae-25ed-4d39-95dc-285cf39cc5f4",
   "metadata": {},
   "outputs": [
    {
     "name": "stdout",
     "output_type": "stream",
     "text": [
      "['h', 'e', 'l', 'l', 'o']\n"
     ]
    }
   ],
   "source": [
    "#Convert string to list\n",
    "string='hello'\n",
    "string_list = list(string)\n",
    "print(string_list)"
   ]
  },
  {
   "cell_type": "code",
   "execution_count": 132,
   "id": "0327d6eb-dee0-4dae-a4c0-07a5e664ca95",
   "metadata": {},
   "outputs": [
    {
     "name": "stdout",
     "output_type": "stream",
     "text": [
      "John\n"
     ]
    }
   ],
   "source": [
    "class MyClass:\n",
    "    def __init__(self,name):\n",
    "        self.name = name\n",
    "obj = MyClass(\"John\")\n",
    "print(obj.name)"
   ]
  },
  {
   "cell_type": "code",
   "execution_count": 133,
   "id": "c35eac78-fce6-4a8a-bd9e-6543f8122f20",
   "metadata": {},
   "outputs": [
    {
     "name": "stdout",
     "output_type": "stream",
     "text": [
      "4\n"
     ]
    }
   ],
   "source": [
    "#Negative indexing\n",
    "my_list = [1, 2, 3, 4]\n",
    "print(my_list[-1])"
   ]
  },
  {
   "cell_type": "code",
   "execution_count": 140,
   "id": "d7233385-adaa-4b81-996d-59cf8558a046",
   "metadata": {},
   "outputs": [
    {
     "name": "stdout",
     "output_type": "stream",
     "text": [
      "True\n"
     ]
    }
   ],
   "source": [
    "#Check whether the number is prime or not\n",
    "def is_prime(n):\n",
    "    if n <= 1:\n",
    "        return False\n",
    "    for i in range(2, int(n**0.5) + 1):\n",
    "        if n % i == 0:\n",
    "            return False\n",
    "    return True\n",
    "result=is_prime(7)\n",
    "print(result)"
   ]
  },
  {
   "cell_type": "code",
   "execution_count": null,
   "id": "e7426898-2c05-492b-bd82-81d71e637bd1",
   "metadata": {},
   "outputs": [],
   "source": []
  }
 ],
 "metadata": {
  "kernelspec": {
   "display_name": "Python [conda env:base] *",
   "language": "python",
   "name": "conda-base-py"
  },
  "language_info": {
   "codemirror_mode": {
    "name": "ipython",
    "version": 3
   },
   "file_extension": ".py",
   "mimetype": "text/x-python",
   "name": "python",
   "nbconvert_exporter": "python",
   "pygments_lexer": "ipython3",
   "version": "3.12.7"
  }
 },
 "nbformat": 4,
 "nbformat_minor": 5
}
