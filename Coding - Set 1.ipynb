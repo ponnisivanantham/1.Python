{
 "cells": [
  {
   "cell_type": "code",
   "execution_count": 7,
   "id": "5fd5c475",
   "metadata": {},
   "outputs": [
    {
     "name": "stdout",
     "output_type": "stream",
     "text": [
      "1 2 3 4 5 "
     ]
    }
   ],
   "source": [
    "#1.Write a Python program that prints numbers from 1 to 5.\n",
    "#Expected Output:\n",
    "#1 2 3 4 5\n",
    "for temp in range(1,6):\n",
    "    print(temp,end=\" \")"
   ]
  },
  {
   "cell_type": "code",
   "execution_count": 8,
   "id": "3c8bc472",
   "metadata": {},
   "outputs": [
    {
     "name": "stdout",
     "output_type": "stream",
     "text": [
      "2 4 6 8 10 "
     ]
    }
   ],
   "source": [
    "#2.Write a Python program to print the first 5 even numbers. Expected Output:\n",
    "#2 4 6 8 10\n",
    "for temp in range(1,11):\n",
    "    if temp % 2 == 0:\n",
    "        print(temp,end=\" \")"
   ]
  },
  {
   "cell_type": "code",
   "execution_count": 14,
   "id": "5e7af211",
   "metadata": {},
   "outputs": [
    {
     "name": "stdout",
     "output_type": "stream",
     "text": [
      "Final output is 55\n"
     ]
    }
   ],
   "source": [
    "#3.Write a Python program to print the sum of numbers from 1 to 10. \n",
    "#Expected Output:55\n",
    "output = 0\n",
    "for temp in range(1,11):\n",
    "    output = temp + output\n",
    "print(\"Final output is\", output)\n"
   ]
  },
  {
   "cell_type": "code",
   "execution_count": 19,
   "id": "ac09aa1a",
   "metadata": {},
   "outputs": [
    {
     "name": "stdin",
     "output_type": "stream",
     "text": [
      "Enter a non-negative integer:  5\n"
     ]
    },
    {
     "name": "stdout",
     "output_type": "stream",
     "text": [
      "The factorial of 5 is 120\n"
     ]
    }
   ],
   "source": [
    "#4.Write a Python function to find the factorial of 5. Expected Output:\n",
    "#120\n",
    "def findfactorial(number):\n",
    "  if number < 0:\n",
    "    print(\"Factorial not exists for negative numbers.\")\n",
    "    return None\n",
    "  elif number == 0:\n",
    "    return 1\n",
    "  else:\n",
    "    factorial = 1\n",
    "    for i in range(1, number + 1):\n",
    "      factorial *= i\n",
    "    return factorial\n",
    "num = int(input(\"Enter a non-negative integer: \"))\n",
    "result = findfactorial(num)\n",
    "print(f\"The factorial of {num} is {result}\")\n"
   ]
  },
  {
   "cell_type": "code",
   "execution_count": 21,
   "id": "8ab9fc8a",
   "metadata": {},
   "outputs": [
    {
     "name": "stdin",
     "output_type": "stream",
     "text": [
      "Enter a number:  7\n"
     ]
    },
    {
     "name": "stdout",
     "output_type": "stream",
     "text": [
      "7 is a prime number\n"
     ]
    }
   ],
   "source": [
    "#5.Write a Python program to check if a number is prime. Expected Output (for input 7):\n",
    "#7 is a prime number\n",
    "num = int(input(\"Enter a number: \"))\n",
    "if num == 0 or num == 1:\n",
    "    print(num, \"is not a prime number\")\n",
    "elif num > 1:\n",
    "   for i in range(2,num):\n",
    "       if (num % i) == 0:\n",
    "           print(num,\"is not a prime number\")\n",
    "           break\n",
    "   else:\n",
    "       print(num,\"is a prime number\")\n",
    "else:\n",
    "   print(num,\"is not a prime number\")"
   ]
  },
  {
   "cell_type": "code",
   "execution_count": null,
   "id": "d30eab9d-2427-413e-a571-4e6c53b8b572",
   "metadata": {},
   "outputs": [],
   "source": []
  }
 ],
 "metadata": {
  "kernelspec": {
   "display_name": "Python [conda env:base] *",
   "language": "python",
   "name": "conda-base-py"
  },
  "language_info": {
   "codemirror_mode": {
    "name": "ipython",
    "version": 3
   },
   "file_extension": ".py",
   "mimetype": "text/x-python",
   "name": "python",
   "nbconvert_exporter": "python",
   "pygments_lexer": "ipython3",
   "version": "3.12.7"
  }
 },
 "nbformat": 4,
 "nbformat_minor": 5
}
